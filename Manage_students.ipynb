{
 "cells": [
  {
   "cell_type": "code",
   "execution_count": 1,
   "metadata": {
    "collapsed": false
   },
   "outputs": [],
   "source": [
    "from student import *"
   ]
  },
  {
   "cell_type": "code",
   "execution_count": 2,
   "metadata": {
    "collapsed": false
   },
   "outputs": [
    {
     "name": "stdout",
     "output_type": "stream",
     "text": [
      "Enter filename : students-BA1-2016.xlsx\n",
      "\n",
      " Opened students-BA1-2016.xlsx\n",
      "\n",
      "This workbook contains the following sheets:\n",
      "['Sheet1']\n",
      "Which sheet contains the data? : 0\n",
      "\n",
      "These are the first 5 rows beginnings of the sheet : \n",
      "\n",
      "Line 0 : Ces listes d'étudiants ne seront définitives qu'à la mi-août une fois la commission d'admission bachelor et la conférence d'examen passées afin de s'assurer que tous les étudiants nouvellement admis à l'EPFL y figurent et que les étudiants en situation d'échec définitif soient rayés de ces listes; ; ; \n",
      "Line 1 : Sciences et technologies du vivant, 2016-2017, Bachelor semestre 1  (324 ét.) ; ; ; \n",
      "Line 2 : Civilité; Nom Prénom; Orientation Bachelor; \n",
      "Line 3 : Madame; Abdennadher Amna; ; \n",
      "Line 4 : Madame; Achach Laura Marlène Rachel; ; \n",
      "Which row contains the column headers? : 2\n",
      "\n",
      "These are the headers:\n",
      "0 : Civilité\n",
      "1 : Nom Prénom\n",
      "2 : Orientation Bachelor\n",
      "3 : Orientation Master\n",
      "4 : Spécialisation\n",
      "5 : Filière opt.\n",
      "6 : Mineur\n",
      "7 : Statut\n",
      "8 : Type Echange\n",
      "9 : Ecole Echange\n",
      "10 : No Sciper\n",
      "11 : Email\n",
      "12 : Nationalité\n",
      "\n",
      "Which column contains the :\n",
      "Name : 1\n",
      "SCIPER : 10\n",
      "Sex : 0\n"
     ]
    }
   ],
   "source": [
    "students_new = import_check_headers()"
   ]
  },
  {
   "cell_type": "code",
   "execution_count": 3,
   "metadata": {
    "collapsed": false
   },
   "outputs": [
    {
     "name": "stdout",
     "output_type": "stream",
     "text": [
      "Enter filename : students-BA1-2016.xlsx\n",
      "\n",
      " Opened students-BA1-2016.xlsx\n",
      "\n",
      "This workbook contains the following sheets:\n",
      "['Sheet1']\n",
      "Which sheet contains the data? : 0\n",
      "\n",
      "These are the first 5 rows beginnings of the sheet : \n",
      "\n",
      "Line 0 : Ces listes d'étudiants ne seront définitives qu'à la mi-août une fois la commission d'admission bachelor et la conférence d'examen passées afin de s'assurer que tous les étudiants nouvellement admis à l'EPFL y figurent et que les étudiants en situation d'échec définitif soient rayés de ces listes; ; ; \n",
      "Line 1 : Sciences et technologies du vivant, 2016-2017, Bachelor semestre 1  (324 ét.) ; ; ; \n",
      "Line 2 : Civilité; Nom Prénom; Orientation Bachelor; \n",
      "Line 3 : Madame; Abdennadher Amna; ; \n",
      "Line 4 : Madame; Achach Laura Marlène Rachel; ; \n",
      "Which row contains the column headers? : 2\n",
      "\n",
      "These are the headers:\n",
      "0 : Civilité\n",
      "1 : Nom Prénom\n",
      "2 : Orientation Bachelor\n",
      "3 : Orientation Master\n",
      "4 : Spécialisation\n",
      "5 : Filière opt.\n",
      "6 : Mineur\n",
      "7 : Statut\n",
      "8 : Type Echange\n",
      "9 : Ecole Echange\n",
      "10 : No Sciper\n",
      "11 : Email\n",
      "12 : Nationalité\n",
      "\n",
      "You can add one of the following keys:\n",
      "email\n",
      "phone\n",
      "nationality\n",
      "group\n",
      "name\n",
      "SCIPER\n",
      "facebook_member\n",
      "sex\n",
      "facebook_invited\n",
      "Which key do you want to add to ? : email\n",
      "\n",
      "Which column contains the :\n",
      "SCIPER : 10\n",
      "your data : 11\n"
     ]
    }
   ],
   "source": [
    "students_new = import_column(students_new)"
   ]
  },
  {
   "cell_type": "code",
   "execution_count": 4,
   "metadata": {
    "collapsed": false
   },
   "outputs": [
    {
     "name": "stdout",
     "output_type": "stream",
     "text": [
      "Enter filename : students-BA1-2016.xlsx\n",
      "\n",
      " Opened students-BA1-2016.xlsx\n",
      "\n",
      "This workbook contains the following sheets:\n",
      "['Sheet1']\n",
      "Which sheet contains the data? : 0\n",
      "\n",
      "These are the first 5 rows beginnings of the sheet : \n",
      "\n",
      "Line 0 : Ces listes d'étudiants ne seront définitives qu'à la mi-août une fois la commission d'admission bachelor et la conférence d'examen passées afin de s'assurer que tous les étudiants nouvellement admis à l'EPFL y figurent et que les étudiants en situation d'échec définitif soient rayés de ces listes; ; ; \n",
      "Line 1 : Sciences et technologies du vivant, 2016-2017, Bachelor semestre 1  (324 ét.) ; ; ; \n",
      "Line 2 : Civilité; Nom Prénom; Orientation Bachelor; \n",
      "Line 3 : Madame; Abdennadher Amna; ; \n",
      "Line 4 : Madame; Achach Laura Marlène Rachel; ; \n",
      "Which row contains the column headers? : 2\n",
      "\n",
      "These are the headers:\n",
      "0 : Civilité\n",
      "1 : Nom Prénom\n",
      "2 : Orientation Bachelor\n",
      "3 : Orientation Master\n",
      "4 : Spécialisation\n",
      "5 : Filière opt.\n",
      "6 : Mineur\n",
      "7 : Statut\n",
      "8 : Type Echange\n",
      "9 : Ecole Echange\n",
      "10 : No Sciper\n",
      "11 : Email\n",
      "12 : Nationalité\n",
      "\n",
      "You can add one of the following keys:\n",
      "email\n",
      "phone\n",
      "nationality\n",
      "group\n",
      "name\n",
      "SCIPER\n",
      "facebook_member\n",
      "sex\n",
      "facebook_invited\n",
      "Which key do you want to add to ? : nationality\n",
      "\n",
      "Which column contains the :\n",
      "SCIPER : 10\n",
      "your data : 12\n"
     ]
    }
   ],
   "source": [
    "students_new = import_column(students_new)"
   ]
  },
  {
   "cell_type": "code",
   "execution_count": 5,
   "metadata": {
    "collapsed": false
   },
   "outputs": [],
   "source": [
    "students_old = import_safe_file(\"imported-2016-old.xlsx\")"
   ]
  },
  {
   "cell_type": "code",
   "execution_count": 6,
   "metadata": {
    "collapsed": false
   },
   "outputs": [],
   "source": [
    "students_merged = merge_students(students_old,students_new)"
   ]
  },
  {
   "cell_type": "code",
   "execution_count": 7,
   "metadata": {
    "collapsed": false
   },
   "outputs": [],
   "source": [
    "write_to_file(students_merged,\"students-2016-merged.xlsx\")"
   ]
  },
  {
   "cell_type": "code",
   "execution_count": 8,
   "metadata": {
    "collapsed": true
   },
   "outputs": [],
   "source": [
    "students_added = find_new_students(students_old,students_new)"
   ]
  },
  {
   "cell_type": "code",
   "execution_count": 9,
   "metadata": {
    "collapsed": true
   },
   "outputs": [],
   "source": [
    "write_to_file(students_added,\"students-2016-added.xlsx\")"
   ]
  },
  {
   "cell_type": "code",
   "execution_count": 11,
   "metadata": {
    "collapsed": false
   },
   "outputs": [],
   "source": [
    "students_updated = find_updated_students(students_old,students_new)"
   ]
  },
  {
   "cell_type": "code",
   "execution_count": 12,
   "metadata": {
    "collapsed": true
   },
   "outputs": [],
   "source": [
    "write_to_file(students_added,\"students-2016-updated.xlsx\")"
   ]
  },
  {
   "cell_type": "code",
   "execution_count": null,
   "metadata": {
    "collapsed": true
   },
   "outputs": [],
   "source": []
  }
 ],
 "metadata": {
  "kernelspec": {
   "display_name": "Python 3",
   "language": "python",
   "name": "python3"
  },
  "language_info": {
   "codemirror_mode": {
    "name": "ipython",
    "version": 3
   },
   "file_extension": ".py",
   "mimetype": "text/x-python",
   "name": "python",
   "nbconvert_exporter": "python",
   "pygments_lexer": "ipython3",
   "version": "3.5.1"
  }
 },
 "nbformat": 4,
 "nbformat_minor": 1
}
