{
 "cells": [
  {
   "cell_type": "code",
   "execution_count": 1,
   "metadata": {
    "collapsed": false
   },
   "outputs": [],
   "source": [
    "from student import *"
   ]
  },
  {
   "cell_type": "code",
   "execution_count": null,
   "metadata": {
    "collapsed": false
   },
   "outputs": [],
   "source": [
    "students_2016_new = import_check_headers()\n",
    "students_old = import_safe_file(\"imported-2016-old.xlsx\")"
   ]
  },
  {
   "cell_type": "code",
   "execution_count": null,
   "metadata": {
    "collapsed": true
   },
   "outputs": [],
   "source": [
    "students_merged = merge_students(students_2016_old, students_2016_new)\n",
    "write_to_file(students_merged,\"students-2016-merged.xlsx\")\n",
    "\n",
    "students_added = find_new_students(students_2016_old, students_2016_new)\n",
    "write_to_file(students_added,\"students-2016-added.xlsx\")\n",
    "\n",
    "students_updated = find_updated_students(students_2016_old,students_2016_new)\n",
    "write_to_file(students_added,\"students-2016-updated.xlsx\")"
   ]
  },
  {
   "cell_type": "code",
   "execution_count": 3,
   "metadata": {
    "collapsed": false
   },
   "outputs": [],
   "source": [
    "students_2016 = import_safe_file(\"students-2016-merged.xlsx\")\n",
    "students_2015 = import_safe_file(\"imported-2015.xlsx\")\n",
    "students_new = find_new_students(students_2015,students_2016)\n",
    "\n",
    "write_to_file(students_new,\"students-2016-new.xlsx\")"
   ]
  },
  {
   "cell_type": "code",
   "execution_count": 4,
   "metadata": {
    "collapsed": false
   },
   "outputs": [
    {
     "name": "stdout",
     "output_type": "stream",
     "text": [
      "Distributing 237 into 17\n",
      "Using a group size of 14\n"
     ]
    }
   ],
   "source": [
    "students_assigned = assign_students(students_new,17)\n",
    "write_to_file(students_assigned,\"students-2016-assigned.xlsx\")"
   ]
  },
  {
   "cell_type": "code",
   "execution_count": 5,
   "metadata": {
    "collapsed": true
   },
   "outputs": [],
   "source": [
    "students_repeating = []\n",
    "for student in students_2016:\n",
    "    if student not in students_new:\n",
    "        students_repeating.append(student)\n",
    "\n",
    "write_to_file(students_repeating,\"students-2016-repeating.xlsx\")"
   ]
  },
  {
   "cell_type": "code",
   "execution_count": null,
   "metadata": {
    "collapsed": true
   },
   "outputs": [],
   "source": []
  }
 ],
 "metadata": {
  "kernelspec": {
   "display_name": "Python 3",
   "language": "python",
   "name": "python3"
  },
  "language_info": {
   "codemirror_mode": {
    "name": "ipython",
    "version": 3
   },
   "file_extension": ".py",
   "mimetype": "text/x-python",
   "name": "python",
   "nbconvert_exporter": "python",
   "pygments_lexer": "ipython3",
   "version": "3.5.1"
  }
 },
 "nbformat": 4,
 "nbformat_minor": 1
}
