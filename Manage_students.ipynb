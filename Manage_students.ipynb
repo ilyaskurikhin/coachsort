{
 "cells": [
  {
   "cell_type": "code",
   "execution_count": 1,
   "metadata": {
    "collapsed": false
   },
   "outputs": [],
   "source": [
    "from student import *"
   ]
  },
  {
   "cell_type": "code",
   "execution_count": null,
   "metadata": {
    "collapsed": false
   },
   "outputs": [],
   "source": [
    "students_2016_new = import_check_headers()\n",
    "students_old = import_safe_file(\"imported-2016-old.xlsx\")"
   ]
  },
  {
   "cell_type": "code",
   "execution_count": null,
   "metadata": {
    "collapsed": true
   },
   "outputs": [],
   "source": [
    "students_merged = merge_new_students(students_2016_old, students_2016_new)\n",
    "write_to_file(students_merged,\"students-2016-merged.xlsx\")\n",
    "\n",
    "students_added = find_new_students(students_2016_old, students_2016_new)\n",
    "write_to_file(students_added,\"students-2016-added.xlsx\")\n",
    "\n",
    "students_updated = find_updated_students(students_2016_old,students_2016_new)\n",
    "write_to_file(students_added,\"students-2016-updated.xlsx\")"
   ]
  },
  {
   "cell_type": "code",
   "execution_count": 2,
   "metadata": {
    "collapsed": false
   },
   "outputs": [],
   "source": [
    "students_2016 = import_safe_file(\"students-2016-merged.xlsx\")\n",
    "students_2015 = import_safe_file(\"imported-2015.xlsx\")\n",
    "students_new = find_new_students(students_2015,students_2016)\n",
    "\n",
    "write_to_file(students_new,\"students-2016-new.xlsx\")"
   ]
  },
  {
   "cell_type": "code",
   "execution_count": null,
   "metadata": {
    "collapsed": false
   },
   "outputs": [],
   "source": [
    "students_assigned = assign_students(students_new,17)\n",
    "write_to_file(students_assigned,\"students-2016-assigned.xlsx\")"
   ]
  },
  {
   "cell_type": "code",
   "execution_count": 3,
   "metadata": {
    "collapsed": false
   },
   "outputs": [
    {
     "name": "stdout",
     "output_type": "stream",
     "text": [
      "Distributing 149 into 17\n",
      "Using a group size of 9\n",
      "Distributing 88 into 17\n",
      "Using a group size of 5\n"
     ]
    }
   ],
   "source": [
    "students_new_female = get_students_by_keys(students_new,{'sex':\"F\"})\n",
    "students_new_male = get_students_by_keys(students_new,{'sex':\"M\"})\n",
    "students_new_female_assigned = assign_students(students_new_female,17)\n",
    "students_new_male_assigned = assign_students(students_new_male,17)"
   ]
  },
  {
   "cell_type": "code",
   "execution_count": 4,
   "metadata": {
    "collapsed": false
   },
   "outputs": [],
   "source": [
    "students_assigned = merge_students(students_new_male_assigned,students_new_female_assigned)\n",
    "write_to_file(students_assigned,\"students-2016-assigned.xlsx\")"
   ]
  },
  {
   "cell_type": "code",
   "execution_count": null,
   "metadata": {
    "collapsed": true
   },
   "outputs": [],
   "source": [
    "students_repeating = []\n",
    "for student in students_2016:\n",
    "    if student not in students_new:\n",
    "        students_repeating.append(student)\n",
    "\n",
    "write_to_file(students_repeating,\"students-2016-repeating.xlsx\")"
   ]
  },
  {
   "cell_type": "code",
   "execution_count": 10,
   "metadata": {
    "collapsed": false
   },
   "outputs": [
    {
     "name": "stdout",
     "output_type": "stream",
     "text": [
      "\n",
      "Stats for group 1\n",
      "Number of students: 15\n",
      "Percentage male: 0.3333333333333333\n",
      "\n",
      "Stats for group 2\n",
      "Number of students: 16\n",
      "Percentage male: 0.375\n",
      "\n",
      "Stats for group 3\n",
      "Number of students: 15\n",
      "Percentage male: 0.4\n",
      "\n",
      "Stats for group 4\n",
      "Number of students: 14\n",
      "Percentage male: 0.35714285714285715\n",
      "\n",
      "Stats for group 5\n",
      "Number of students: 14\n",
      "Percentage male: 0.35714285714285715\n",
      "\n",
      "Stats for group 6\n",
      "Number of students: 15\n",
      "Percentage male: 0.4\n",
      "\n",
      "Stats for group 7\n",
      "Number of students: 16\n",
      "Percentage male: 0.375\n",
      "\n",
      "Stats for group 8\n",
      "Number of students: 14\n",
      "Percentage male: 0.35714285714285715\n",
      "\n",
      "Stats for group 9\n",
      "Number of students: 15\n",
      "Percentage male: 0.3333333333333333\n",
      "\n",
      "Stats for group 10\n",
      "Number of students: 14\n",
      "Percentage male: 0.35714285714285715\n",
      "\n",
      "Stats for group 11\n",
      "Number of students: 15\n",
      "Percentage male: 0.3333333333333333\n",
      "\n",
      "Stats for group 12\n",
      "Number of students: 14\n",
      "Percentage male: 0.35714285714285715\n",
      "\n",
      "Stats for group 13\n",
      "Number of students: 15\n",
      "Percentage male: 0.4\n",
      "\n",
      "Stats for group 14\n",
      "Number of students: 15\n",
      "Percentage male: 0.4\n",
      "\n",
      "Stats for group 15\n",
      "Number of students: 15\n",
      "Percentage male: 0.4\n",
      "\n",
      "Stats for group 16\n",
      "Number of students: 15\n",
      "Percentage male: 0.4\n"
     ]
    }
   ],
   "source": [
    "for i in range(1,17):\n",
    "    show_group_stats(students_assigned,i)"
   ]
  },
  {
   "cell_type": "code",
   "execution_count": 9,
   "metadata": {
    "collapsed": false
   },
   "outputs": [
    {
     "name": "stdout",
     "output_type": "stream",
     "text": [
      "Sorting 237 elements\n",
      "Sorting 225 elements\n",
      "Sorting 24 elements\n",
      "Sorting 5 elements\n",
      "Sorting 3 elements\n",
      "Sorting 2 elements\n",
      "Sorting 18 elements\n",
      "Sorting 8 elements\n",
      "Sorting 7 elements\n",
      "Sorting 6 elements\n",
      "Sorting 3 elements\n",
      "Sorting 2 elements\n",
      "Sorting 9 elements\n",
      "Sorting 5 elements\n",
      "Sorting 4 elements\n",
      "Sorting 2 elements\n",
      "Sorting 3 elements\n",
      "Sorting 2 elements\n",
      "Sorting 200 elements\n",
      "Sorting 69 elements\n",
      "Sorting 63 elements\n",
      "Sorting 15 elements\n",
      "Sorting 3 elements\n",
      "Sorting 2 elements\n",
      "Sorting 11 elements\n",
      "Sorting 6 elements\n",
      "Sorting 5 elements\n",
      "Sorting 3 elements\n",
      "Sorting 2 elements\n",
      "Sorting 4 elements\n",
      "Sorting 3 elements\n",
      "Sorting 2 elements\n",
      "Sorting 47 elements\n",
      "Sorting 24 elements\n",
      "Sorting 10 elements\n",
      "Sorting 9 elements\n",
      "Sorting 7 elements\n",
      "Sorting 5 elements\n",
      "Sorting 3 elements\n",
      "Sorting 2 elements\n",
      "Sorting 13 elements\n",
      "Sorting 9 elements\n",
      "Sorting 5 elements\n",
      "Sorting 3 elements\n",
      "Sorting 3 elements\n",
      "Sorting 2 elements\n",
      "Sorting 3 elements\n",
      "Sorting 2 elements\n",
      "Sorting 22 elements\n",
      "Sorting 21 elements\n",
      "Sorting 14 elements\n",
      "Sorting 7 elements\n",
      "Sorting 2 elements\n",
      "Sorting 4 elements\n",
      "Sorting 2 elements\n",
      "Sorting 6 elements\n",
      "Sorting 4 elements\n",
      "Sorting 2 elements\n",
      "Sorting 6 elements\n",
      "Sorting 5 elements\n",
      "Sorting 4 elements\n",
      "Sorting 3 elements\n",
      "Sorting 2 elements\n",
      "Sorting 5 elements\n",
      "Sorting 3 elements\n",
      "Sorting 2 elements\n",
      "Sorting 130 elements\n",
      "Sorting 32 elements\n",
      "Sorting 22 elements\n",
      "Sorting 17 elements\n",
      "Sorting 2 elements\n",
      "Sorting 14 elements\n",
      "Sorting 11 elements\n",
      "Sorting 10 elements\n",
      "Sorting 9 elements\n",
      "Sorting 5 elements\n",
      "Sorting 3 elements\n",
      "Sorting 2 elements\n",
      "Sorting 3 elements\n",
      "Sorting 2 elements\n",
      "Sorting 4 elements\n",
      "Sorting 2 elements\n",
      "Sorting 9 elements\n",
      "Sorting 6 elements\n",
      "Sorting 5 elements\n",
      "Sorting 4 elements\n",
      "Sorting 3 elements\n",
      "Sorting 2 elements\n",
      "Sorting 2 elements\n",
      "Sorting 97 elements\n",
      "Sorting 54 elements\n",
      "Sorting 11 elements\n",
      "Sorting 9 elements\n",
      "Sorting 3 elements\n",
      "Sorting 5 elements\n",
      "Sorting 4 elements\n",
      "Sorting 3 elements\n",
      "Sorting 2 elements\n",
      "Sorting 42 elements\n",
      "Sorting 27 elements\n",
      "Sorting 12 elements\n",
      "Sorting 3 elements\n",
      "Sorting 2 elements\n",
      "Sorting 8 elements\n",
      "Sorting 5 elements\n",
      "Sorting 4 elements\n",
      "Sorting 3 elements\n",
      "Sorting 2 elements\n",
      "Sorting 2 elements\n",
      "Sorting 14 elements\n",
      "Sorting 13 elements\n",
      "Sorting 5 elements\n",
      "Sorting 3 elements\n",
      "Sorting 2 elements\n",
      "Sorting 7 elements\n",
      "Sorting 6 elements\n",
      "Sorting 3 elements\n",
      "Sorting 2 elements\n",
      "Sorting 2 elements\n",
      "Sorting 14 elements\n",
      "Sorting 10 elements\n",
      "Sorting 7 elements\n",
      "Sorting 3 elements\n",
      "Sorting 2 elements\n",
      "Sorting 3 elements\n",
      "Sorting 2 elements\n",
      "Sorting 2 elements\n",
      "Sorting 3 elements\n",
      "Sorting 2 elements\n",
      "Sorting 42 elements\n",
      "Sorting 11 elements\n",
      "Sorting 9 elements\n",
      "Sorting 8 elements\n",
      "Sorting 6 elements\n",
      "Sorting 5 elements\n",
      "Sorting 4 elements\n",
      "Sorting 2 elements\n",
      "Sorting 30 elements\n",
      "Sorting 8 elements\n",
      "Sorting 6 elements\n",
      "Sorting 5 elements\n",
      "Sorting 4 elements\n",
      "Sorting 2 elements\n",
      "Sorting 21 elements\n",
      "Sorting 5 elements\n",
      "Sorting 3 elements\n",
      "Sorting 15 elements\n",
      "Sorting 14 elements\n",
      "Sorting 13 elements\n",
      "Sorting 9 elements\n",
      "Sorting 7 elements\n",
      "Sorting 6 elements\n",
      "Sorting 4 elements\n",
      "Sorting 2 elements\n",
      "Sorting 3 elements\n",
      "Sorting 2 elements\n",
      "Sorting 11 elements\n",
      "Sorting 2 elements\n",
      "Sorting 8 elements\n",
      "Sorting 5 elements\n",
      "Sorting 4 elements\n",
      "Sorting 3 elements\n",
      "Sorting 2 elements\n",
      "Sorting 2 elements\n",
      "Sorting 237 elements\n",
      "Sorting 15 elements\n",
      "Sorting 206 elements\n",
      "Sorting 161 elements\n",
      "Sorting 103 elements\n",
      "Sorting 29 elements\n",
      "Sorting 14 elements\n",
      "Sorting 60 elements\n",
      "Sorting 45 elements\n",
      "Sorting 16 elements\n",
      "Sorting 15 elements\n",
      "Sorting 44 elements\n",
      "Sorting 29 elements\n",
      "Sorting 15 elements\n",
      "Sorting 30 elements\n",
      "Sorting 15 elements\n"
     ]
    }
   ],
   "source": [
    "sorted_by_group = sort_by_key(students_assigned,'SCIPER')\n",
    "sorted_by_group = sort_by_key(sorted_by_group,'group')\n",
    "write_to_file(sorted_by_group,\"sorted-by-group.xlsx\")"
   ]
  },
  {
   "cell_type": "code",
   "execution_count": 6,
   "metadata": {
    "collapsed": true
   },
   "outputs": [],
   "source": []
  },
  {
   "cell_type": "code",
   "execution_count": null,
   "metadata": {
    "collapsed": true
   },
   "outputs": [],
   "source": []
  }
 ],
 "metadata": {
  "kernelspec": {
   "display_name": "Python 3",
   "language": "python",
   "name": "python3"
  },
  "language_info": {
   "codemirror_mode": {
    "name": "ipython",
    "version": 3
   },
   "file_extension": ".py",
   "mimetype": "text/x-python",
   "name": "python",
   "nbconvert_exporter": "python",
   "pygments_lexer": "ipython3",
   "version": "3.5.1"
  }
 },
 "nbformat": 4,
 "nbformat_minor": 1
}
