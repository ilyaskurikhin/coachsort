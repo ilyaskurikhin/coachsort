{
 "cells": [
  {
   "cell_type": "code",
   "execution_count": 1,
   "metadata": {
    "collapsed": true
   },
   "outputs": [],
   "source": [
    "import xlrd\n",
    "import xlwt"
   ]
  },
  {
   "cell_type": "code",
   "execution_count": 2,
   "metadata": {
    "collapsed": false
   },
   "outputs": [],
   "source": [
    "class Student:\n",
    "    def __init__(self, name, sex, sciper, email):\n",
    "        self.name = name\n",
    "        self.sex = sex\n",
    "        self.sciper = int(sciper)\n",
    "        self.email = email\n",
    "    \n",
    "    def show(self):\n",
    "        print(self.sex + \"\\t\" + str(self.sciper) + \"\\t\" + self.name)"
   ]
  },
  {
   "cell_type": "code",
   "execution_count": 3,
   "metadata": {
    "collapsed": false
   },
   "outputs": [],
   "source": [
    "def import_file(filename,name=1,sex=0,sciper=10,email=11):\n",
    "    \n",
    "    workbook = xlrd.open_workbook(filename)\n",
    "    sheet = workbook.sheet_by_index(0)\n",
    "    \n",
    "    students = []\n",
    "    for i in range(3,sheet.nrows):\n",
    "        row = sheet.row(i)\n",
    "        \n",
    "        # change empty SCIPER fields to 0\n",
    "        if (row[sciper].value == 'No Sciper'):\n",
    "            row[sciper].value = 0\n",
    "        \n",
    "        # infer sex from saluation\n",
    "        if (row[sex].value == \"Madame\"):\n",
    "            row[sex].value = \"F\"\n",
    "        elif (row[sex].value == \"Monsieur\"):\n",
    "            row[sex].value = \"M\"\n",
    "        else: \n",
    "            row[sex].value = \"Sex\"\n",
    "        \n",
    "        students.append(Student(row[name].value,row[sex].value,row[sciper].value,row[email].value))\n",
    "    return students"
   ]
  },
  {
   "cell_type": "code",
   "execution_count": 4,
   "metadata": {
    "collapsed": false
   },
   "outputs": [],
   "source": [
    "def import_check_headers(filename):\n",
    "    \n",
    "    print(\"\\n Importing \" + str(filename))\n",
    "    \n",
    "    workbook = xlrd.open_workbook(filename)\n",
    "    \n",
    "    print(\"\\nThis workbook contains the following sheets:\")\n",
    "    print(workbook.sheet_names())\n",
    "    sheet_index = int(input(\"Which sheet contains the data? : \"))\n",
    "    \n",
    "    sheet = workbook.sheet_by_index(sheet_index)\n",
    "    \n",
    "    print(\"\\nThese are the first 5 rows of the sheet : \\n\")\n",
    "    for i in range(0,5):\n",
    "        line = \"Line \" + str(i) + \" : \"\n",
    "        for j in range(0,sheet.ncols):\n",
    "            line += str(sheet.cell(i,j).value) + \"; \"\n",
    "        print(line)\n",
    "    row = int(input(\"Which row contains the column headers? : \"))\n",
    "    \n",
    "    print(\"\\nThese are the headers:\")\n",
    "    for i in range(0,sheet.ncols):\n",
    "        print(str(i) + \" : \" + str(sheet.cell(row,i).value))\n",
    "    print(\"Which column contains the :\")\n",
    "    name = int(input(\"Name : \"))\n",
    "    sciper = int(input(\"SCIPER : \"))\n",
    "    sex = int(input(\"Sex : \"))\n",
    "    email = int(input(\"Email : \"))\n",
    "\n",
    "    return import_file(filename,name,sex,sciper,email)"
   ]
  },
  {
   "cell_type": "code",
   "execution_count": 5,
   "metadata": {
    "collapsed": false
   },
   "outputs": [],
   "source": [
    "def write_to_file(student_list,filename):\n",
    "    workbook = xlwt.Workbook()\n",
    "    sheet = workbook.add_sheet(\"Sheet1\")\n",
    "    \n",
    "    sheet.write(0,0,\"SCIPER\")\n",
    "    sheet.write(0,1,\"Sex\")\n",
    "    sheet.write(0,2,\"Name\")\n",
    "    sheet.write(0,3,\"email\")\n",
    "    \n",
    "    i = int(1)\n",
    "    for student in student_list:\n",
    "        sheet.write(i,0,student.sciper)\n",
    "        sheet.write(i,1,student.sex)\n",
    "        sheet.write(i,2,student.name)\n",
    "        sheet.write(i,3,student.email)\n",
    "        i = i + 1\n",
    "    \n",
    "    workbook.save(filename)"
   ]
  },
  {
   "cell_type": "code",
   "execution_count": 6,
   "metadata": {
    "collapsed": false
   },
   "outputs": [
    {
     "name": "stdout",
     "output_type": "stream",
     "text": [
      "\n",
      " Importing s_old.xlsx\n",
      "\n",
      "This workbook contains the following sheets:\n",
      "['Sheet1']\n",
      "Which sheet contains the data? : 0\n",
      "\n",
      "These are the first 5 rows of the sheet : \n",
      "\n",
      "Line 0 : Ces listes d'étudiants ne seront définitives qu'à la mi-août une fois la commission d'admission bachelor et la conférence d'examen passées afin de s'assurer que tous les étudiants nouvellement admis à l'EPFL y figurent et que les étudiants en situation d'échec définitif soient rayés de ces listes; ; ; ; ; ; ; ; ; ; ; ; \n",
      "Line 1 : Sciences et technologies du vivant, 2015-2016, Bachelor semestre 1  (269 ét.); ; ; ; ; ; ; ; ; ; ; ; \n",
      "Line 2 : Civilité; Nom Prénom; Orientation Bachelor; Orientation Master; Spécialisation; Filière opt.; Mineur; Statut; Type Echange; Ecole Echange; No Sciper; ; \n",
      "Line 3 : Madame; Abdennadher Amna; ; ; ; ; ; Présent; ; ; 247331.0; mailto:; \n",
      "Line 4 : Monsieur; Aebi Benjamin Giovanni Numa; ; ; ; ; ; Présent; ; ; 262217.0; mailto:; \n",
      "Which row contains the column headers? : 2\n",
      "\n",
      "These are the headers:\n",
      "0 : Civilité\n",
      "1 : Nom Prénom\n",
      "2 : Orientation Bachelor\n",
      "3 : Orientation Master\n",
      "4 : Spécialisation\n",
      "5 : Filière opt.\n",
      "6 : Mineur\n",
      "7 : Statut\n",
      "8 : Type Echange\n",
      "9 : Ecole Echange\n",
      "10 : No Sciper\n",
      "11 : \n",
      "Which column contains the :\n",
      "Name : 1\n",
      "SCIPER : 10\n",
      "Sex : 0\n",
      "Email : 11\n",
      "\n",
      " Importing s_new.xlsx\n",
      "\n",
      "This workbook contains the following sheets:\n",
      "['Sheet1']\n",
      "Which sheet contains the data? : 0\n",
      "\n",
      "These are the first 5 rows of the sheet : \n",
      "\n",
      "Line 0 : Ces listes d'étudiants ne seront définitives qu'à la mi-août une fois la commission d'admission bachelor et la conférence d'examen passées afin de s'assurer que tous les étudiants nouvellement admis à l'EPFL y figurent et que les étudiants en situation d'échec définitif soient rayés de ces listes; ; ; ; ; ; ; ; ; ; ; ; \n",
      "Line 1 : Sciences et technologies du vivant, 2016-2017, Bachelor semestre 1  (324 ét.); ; ; ; ; ; ; ; ; ; ; ; \n",
      "Line 2 : Civilité; Nom Prénom; Orientation Bachelor; Orientation Master; Spécialisation; Filière opt.; Mineur; Statut; Type Echange; Ecole Echange; No Sciper; ; \n",
      "Line 3 : Madame; Abdennadher Amna; ; ; ; ; ; Présent; ; ; 247331.0; mailto:; \n",
      "Line 4 : Madame; Achach Laura Marlène Rachel; ; ; ; ; ; Présent; ; ; 274315.0; mailto:; \n",
      "Which row contains the column headers? : 2\n",
      "\n",
      "These are the headers:\n",
      "0 : Civilité\n",
      "1 : Nom Prénom\n",
      "2 : Orientation Bachelor\n",
      "3 : Orientation Master\n",
      "4 : Spécialisation\n",
      "5 : Filière opt.\n",
      "6 : Mineur\n",
      "7 : Statut\n",
      "8 : Type Echange\n",
      "9 : Ecole Echange\n",
      "10 : No Sciper\n",
      "11 : \n",
      "Which column contains the :\n",
      "Name : 1\n",
      "SCIPER : 10\n",
      "Sex : 0\n",
      "Email : 11\n"
     ]
    }
   ],
   "source": [
    "old_student_list = import_check_headers('s_old.xlsx')\n",
    "new_student_list = import_check_headers('s_new.xlsx')"
   ]
  },
  {
   "cell_type": "code",
   "execution_count": 15,
   "metadata": {
    "collapsed": false
   },
   "outputs": [],
   "source": [
    "\"\"\"\n",
    "This function will merge an old and new list of students, while\n",
    "keeping info from the old data.\n",
    "The merge is based in SCIPER numbering\n",
    "\"\"\"\n",
    "def merge_students(old_list,new_list):\n",
    "    merged_list = []\n",
    "    for new_student in new_list:\n",
    "        existed = False\n",
    "        for old_student in old_list:\n",
    "            if new_student.sciper == old_student.sciper:\n",
    "                existed = True\n",
    "                merged_list.append(old_student)\n",
    "                break\n",
    "        if existed == False:\n",
    "            merged_list.append(new_student)\n",
    "    return merged_list\n",
    "\n",
    "def find_new_students(old_list,new_list):\n",
    "    new_students = []\n",
    "    for new_student in new_list:\n",
    "        existed = False\n",
    "        for old_student in old_list:\n",
    "            if new_student.sciper == old_student.sciper:\n",
    "                existed = True\n",
    "                break\n",
    "        if existed == False:\n",
    "            new_students.append(new_student)\n",
    "    \n",
    "    return new_students"
   ]
  },
  {
   "cell_type": "code",
   "execution_count": 16,
   "metadata": {
    "collapsed": false
   },
   "outputs": [],
   "source": [
    "new_student_list = find_new_students(old_student_list, new_student_list)"
   ]
  },
  {
   "cell_type": "code",
   "execution_count": 17,
   "metadata": {
    "collapsed": false
   },
   "outputs": [],
   "source": [
    "write_to_file(new_student_list,\"new_students.xlsx\")"
   ]
  },
  {
   "cell_type": "code",
   "execution_count": null,
   "metadata": {
    "collapsed": true
   },
   "outputs": [],
   "source": []
  }
 ],
 "metadata": {
  "kernelspec": {
   "display_name": "Python 3",
   "language": "python",
   "name": "python3"
  },
  "language_info": {
   "codemirror_mode": {
    "name": "ipython",
    "version": 3
   },
   "file_extension": ".py",
   "mimetype": "text/x-python",
   "name": "python",
   "nbconvert_exporter": "python",
   "pygments_lexer": "ipython3",
   "version": "3.5.1"
  }
 },
 "nbformat": 4,
 "nbformat_minor": 1
}
